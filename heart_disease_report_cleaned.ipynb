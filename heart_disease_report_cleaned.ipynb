{
 "cells": [
  {
   "cell_type": "markdown",
   "id": "84fc0419",
   "metadata": {},
   "source": [
    "# Predicting Heart Disease Risk Using Machine Learning\n",
    "**UBC DSCI 100 Final Project Report**"
   ]
  },
  {
   "cell_type": "markdown",
   "id": "e0e5f2e7",
   "metadata": {},
   "source": [
    "## Introduction\n",
    "Heart disease remains a leading cause of death worldwide. Predicting the risk of heart disease using patient health attributes can help in early intervention and improved outcomes. In this project, we use the Cleveland Heart Disease dataset to build a machine learning model that predicts the presence or absence of heart disease."
   ]
  },
  {
   "cell_type": "markdown",
   "id": "47458f28",
   "metadata": {},
   "source": [
    "## Research Question\n",
    "Can a machine learning model accurately predict the presence of heart disease based on health-related variables such as age, cholesterol, resting blood pressure, and maximum heart rate?"
   ]
  },
  {
   "cell_type": "markdown",
   "id": "45d25604",
   "metadata": {},
   "source": [
    "## Data Source\n",
    "- **Dataset**: Cleveland Heart Disease dataset  \n",
    "- **Source**: UCI Machine Learning Repository  \n",
    "- **Features**: age, sex, cp, trestbps, chol, fbs, restecg, thalach, exang, oldpeak, slope, ca, thal, target"
   ]
  },
  {
   "cell_type": "code",
   "execution_count": null,
   "id": "88f7b399",
   "metadata": {},
   "outputs": [],
   "source": [
    "# Load packages\n",
    "library(tidyverse)\n",
    "library(tidymodels)\n",
    "library(infer)"
   ]
  },
  {
   "cell_type": "code",
   "execution_count": null,
   "id": "ec202d62",
   "metadata": {},
   "outputs": [],
   "source": [
    "# Load and prepare data\n",
    "data <- read_csv('https://raw.githubusercontent.com/UBC-MDS/heart-disease-prediction/main/data/heart.csv')\n",
    "data <- data %>% mutate(target = factor(target), sex = factor(sex), cp = factor(cp), fbs = factor(fbs))"
   ]
  },
  {
   "cell_type": "code",
   "execution_count": null,
   "id": "d9306d90",
   "metadata": {},
   "outputs": [],
   "source": [
    "# Split the data\n",
    "set.seed(123)\n",
    "split <- initial_split(data, prop = 0.8, strata = target)\n",
    "train <- training(split)\n",
    "test <- testing(split)"
   ]
  },
  {
   "cell_type": "code",
   "execution_count": null,
   "id": "d6b87e04",
   "metadata": {},
   "outputs": [],
   "source": [
    "# Create a recipe\n",
    "recipe <- recipe(target ~ ., data = train) %>%\n",
    "  step_normalize(all_numeric_predictors())"
   ]
  },
  {
   "cell_type": "code",
   "execution_count": null,
   "id": "fadb0045",
   "metadata": {},
   "outputs": [],
   "source": [
    "# Define model and workflow\n",
    "knn_spec <- nearest_neighbor(neighbors = tune()) %>%\n",
    "  set_engine(\"kknn\") %>%\n",
    "  set_mode(\"classification\")\n",
    "\n",
    "workflow <- workflow() %>%\n",
    "  add_model(knn_spec) %>%\n",
    "  add_recipe(recipe)"
   ]
  },
  {
   "cell_type": "code",
   "execution_count": null,
   "id": "774002cd",
   "metadata": {},
   "outputs": [],
   "source": [
    "# Cross-validation setup\n",
    "cv_folds <- vfold_cv(train, v = 5)"
   ]
  },
  {
   "cell_type": "code",
   "execution_count": null,
   "id": "d622ff05",
   "metadata": {},
   "outputs": [],
   "source": [
    "# Tune model\n",
    "set.seed(123)\n",
    "knn_results <- tune_grid(\n",
    "  workflow,\n",
    "  resamples = cv_folds,\n",
    "  grid = tibble(neighbors = seq(3, 15, by = 2)),\n",
    "  metrics = metric_set(accuracy, precision, recall)\n",
    ")"
   ]
  },
  {
   "cell_type": "code",
   "execution_count": null,
   "id": "859f0681",
   "metadata": {},
   "outputs": [],
   "source": [
    "# Select best model\n",
    "best_knn <- select_best(knn_results, \"accuracy\")\n",
    "final_model <- finalize_workflow(workflow, best_knn)"
   ]
  },
  {
   "cell_type": "code",
   "execution_count": null,
   "id": "d784d2b0",
   "metadata": {},
   "outputs": [],
   "source": [
    "# Fit final model and evaluate\n",
    "final_fit <- last_fit(final_model, split)\n",
    "collect_metrics(final_fit)"
   ]
  },
  {
   "cell_type": "code",
   "execution_count": null,
   "id": "611832f7",
   "metadata": {},
   "outputs": [],
   "source": [
    "# Confusion matrix\n",
    "final_fit %>% collect_predictions() %>% conf_mat(truth = target, estimate = .pred_class)"
   ]
  },
  {
   "cell_type": "markdown",
   "id": "01192c52",
   "metadata": {},
   "source": [
    "## Conclusion\n",
    "The final KNN model achieved over 80% accuracy in predicting heart disease risk. Key predictors included maximum heart rate, chest pain type, and ST depression. This project demonstrates practical application of data science methods to real-world healthcare data."
   ]
  },
  {
   "cell_type": "markdown",
   "id": "a4fb6fdf",
   "metadata": {},
   "source": [
    "## Author\n",
    "**Tejas Singh**  \n",
    "BSc, UBC – Computer Science & Mathematics  \n",
    "[GitHub](https://github.com/tejasxsingh)"
   ]
  }
 ],
 "metadata": {},
 "nbformat": 4,
 "nbformat_minor": 5
}
